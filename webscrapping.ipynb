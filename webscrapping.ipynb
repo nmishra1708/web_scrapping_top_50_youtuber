{
  "nbformat": 4,
  "nbformat_minor": 0,
  "metadata": {
    "colab": {
      "name": "webscrapping.ipynb",
      "provenance": [],
      "collapsed_sections": [],
      "authorship_tag": "ABX9TyPUVNcGL3tDWjmvqzbBWd3N",
      "include_colab_link": true
    },
    "kernelspec": {
      "name": "python3",
      "display_name": "Python 3"
    }
  },
  "cells": [
    {
      "cell_type": "markdown",
      "metadata": {
        "id": "view-in-github",
        "colab_type": "text"
      },
      "source": [
        "<a href=\"https://colab.research.google.com/github/nmishra1708/web_scrapping_top_50_youtuber/blob/main/webscrapping.ipynb\" target=\"_parent\"><img src=\"https://colab.research.google.com/assets/colab-badge.svg\" alt=\"Open In Colab\"/></a>"
      ]
    },
    {
      "cell_type": "code",
      "metadata": {
        "id": "GcYA_JZjriJX"
      },
      "source": [
        "import requests\r\n",
        "from bs4 import BeautifulSoup\r\n",
        "import csv"
      ],
      "execution_count": null,
      "outputs": []
    },
    {
      "cell_type": "code",
      "metadata": {
        "id": "aGHc52oLr0_S"
      },
      "source": [
        "url = \"https://socialblade.com/youtube/top/50\""
      ],
      "execution_count": null,
      "outputs": []
    },
    {
      "cell_type": "code",
      "metadata": {
        "id": "uHpVXCP4r9xZ"
      },
      "source": [
        "#Get the HTML Page\r\n",
        "r = requests.get(url, headers={'User-Agent':'Mozilla/5.0 (Windows NT 10.0; Win64; x64) AppleWebKit/537.36 (KHTML, like Gecko) Chrome/87.0.4280.88 Safari/537.36'})\r\n",
        "htmlContent = r.content\r\n",
        "# print(htmlContent)"
      ],
      "execution_count": null,
      "outputs": []
    },
    {
      "cell_type": "code",
      "metadata": {
        "id": "2IYa20cTs6Po"
      },
      "source": [
        "#Parse the HTML Page\r\n",
        "soup = BeautifulSoup(htmlContent, 'html.parser')\r\n",
        "# print(soup.prettify)"
      ],
      "execution_count": null,
      "outputs": []
    },
    {
      "cell_type": "code",
      "metadata": {
        "colab": {
          "base_uri": "https://localhost:8080/"
        },
        "id": "JfG4W7FkspHE",
        "outputId": "20bec1e0-1abc-4a2d-d937-6a4ac714c44a"
      },
      "source": [
        "title = soup.find('title')\r\n",
        "print(title.string)"
      ],
      "execution_count": null,
      "outputs": [
        {
          "output_type": "stream",
          "text": [
            "Top 50 YouTubers sorted by SB Score - Socialblade YouTube Stats | YouTube Statistics\n"
          ],
          "name": "stdout"
        }
      ]
    },
    {
      "cell_type": "code",
      "metadata": {
        "id": "mAGp69I6t5Tg"
      },
      "source": [
        "rows = soup.find('div', attrs={'style': 'float: right; width: 900px;'}).find_all('div', recursive=False)[4:]\r\n",
        "# print(rows)"
      ],
      "execution_count": null,
      "outputs": []
    },
    {
      "cell_type": "code",
      "metadata": {
        "id": "O9q1MeZJxxCF"
      },
      "source": [
        "file = open('youtubers.csv','w')\r\n",
        "writer = csv.writer(file)\r\n",
        "\r\n",
        "# write title row\r\n",
        "writer.writerow(['Username', 'Uploads', 'Views'])\r\n",
        "\r\n",
        "for row in rows:\r\n",
        "    username = row.find('div', attrs={'style': 'float: left; width: 350px; line-height: 25px;'}).a.text.strip()\r\n",
        "    uploads = row.find('div', attrs={'style': 'float: left; width: 80px;'}).span.text.strip()\r\n",
        "    views = row.find_all('div', attrs={'style': 'float: left; width: 150px;'})[1].span.text.strip()\r\n",
        "    # print(username +' '+ uploads + ' '+ views)\r\n",
        "    writer.writerow([username, uploads, views])\r\n",
        "\r\n",
        "file.close()"
      ],
      "execution_count": null,
      "outputs": []
    },
    {
      "cell_type": "code",
      "metadata": {
        "id": "oJLwOuHe2c2q"
      },
      "source": [
        "import pandas as pd\r\n",
        "import seaborn as sns"
      ],
      "execution_count": null,
      "outputs": []
    },
    {
      "cell_type": "code",
      "metadata": {
        "colab": {
          "base_uri": "https://localhost:8080/",
          "height": 198
        },
        "id": "9cd7aIXI2hEI",
        "outputId": "088e55bf-527b-4633-8b93-42bb5aa73675"
      },
      "source": [
        "df =  pd.read_csv('youtubers.csv')\r\n",
        "df.head()"
      ],
      "execution_count": null,
      "outputs": [
        {
          "output_type": "execute_result",
          "data": {
            "text/html": [
              "<div>\n",
              "<style scoped>\n",
              "    .dataframe tbody tr th:only-of-type {\n",
              "        vertical-align: middle;\n",
              "    }\n",
              "\n",
              "    .dataframe tbody tr th {\n",
              "        vertical-align: top;\n",
              "    }\n",
              "\n",
              "    .dataframe thead th {\n",
              "        text-align: right;\n",
              "    }\n",
              "</style>\n",
              "<table border=\"1\" class=\"dataframe\">\n",
              "  <thead>\n",
              "    <tr style=\"text-align: right;\">\n",
              "      <th></th>\n",
              "      <th>Username</th>\n",
              "      <th>Uploads</th>\n",
              "      <th>Views</th>\n",
              "    </tr>\n",
              "  </thead>\n",
              "  <tbody>\n",
              "    <tr>\n",
              "      <th>0</th>\n",
              "      <td>DisneyMusicLAVEVO</td>\n",
              "      <td>424</td>\n",
              "      <td>5,303,673,736</td>\n",
              "    </tr>\n",
              "    <tr>\n",
              "      <th>1</th>\n",
              "      <td>T-Series</td>\n",
              "      <td>14,873</td>\n",
              "      <td>135,558,957,160</td>\n",
              "    </tr>\n",
              "    <tr>\n",
              "      <th>2</th>\n",
              "      <td>위드키즈 토이즈 [With Kids …</td>\n",
              "      <td>349</td>\n",
              "      <td>1,549,979,692</td>\n",
              "    </tr>\n",
              "    <tr>\n",
              "      <th>3</th>\n",
              "      <td>✿ Kids Diana Show</td>\n",
              "      <td>795</td>\n",
              "      <td>46,932,317,122</td>\n",
              "    </tr>\n",
              "    <tr>\n",
              "      <th>4</th>\n",
              "      <td>Cocomelon - Nursery Rhymes</td>\n",
              "      <td>588</td>\n",
              "      <td>86,746,458,824</td>\n",
              "    </tr>\n",
              "  </tbody>\n",
              "</table>\n",
              "</div>"
            ],
            "text/plain": [
              "                     Username Uploads            Views\n",
              "0           DisneyMusicLAVEVO     424    5,303,673,736\n",
              "1                    T-Series  14,873  135,558,957,160\n",
              "2       위드키즈 토이즈 [With Kids …     349    1,549,979,692\n",
              "3           ✿ Kids Diana Show     795   46,932,317,122\n",
              "4  Cocomelon - Nursery Rhymes     588   86,746,458,824"
            ]
          },
          "metadata": {
            "tags": []
          },
          "execution_count": 12
        }
      ]
    },
    {
      "cell_type": "code",
      "metadata": {
        "colab": {
          "base_uri": "https://localhost:8080/"
        },
        "id": "v-OPF2wa2s9H",
        "outputId": "1df13c42-c73e-4ea9-f96f-382ec037e9e0"
      },
      "source": [
        "df.info()"
      ],
      "execution_count": null,
      "outputs": [
        {
          "output_type": "stream",
          "text": [
            "<class 'pandas.core.frame.DataFrame'>\n",
            "RangeIndex: 50 entries, 0 to 49\n",
            "Data columns (total 3 columns):\n",
            " #   Column    Non-Null Count  Dtype \n",
            "---  ------    --------------  ----- \n",
            " 0   Username  50 non-null     object\n",
            " 1   Uploads   50 non-null     object\n",
            " 2   Views     50 non-null     object\n",
            "dtypes: object(3)\n",
            "memory usage: 1.3+ KB\n"
          ],
          "name": "stdout"
        }
      ]
    },
    {
      "cell_type": "code",
      "metadata": {
        "colab": {
          "base_uri": "https://localhost:8080/",
          "height": 168
        },
        "id": "xPNX107H2vSx",
        "outputId": "04318152-df21-485f-e4cc-5f7b82db6cef"
      },
      "source": [
        "df.describe()"
      ],
      "execution_count": null,
      "outputs": [
        {
          "output_type": "execute_result",
          "data": {
            "text/html": [
              "<div>\n",
              "<style scoped>\n",
              "    .dataframe tbody tr th:only-of-type {\n",
              "        vertical-align: middle;\n",
              "    }\n",
              "\n",
              "    .dataframe tbody tr th {\n",
              "        vertical-align: top;\n",
              "    }\n",
              "\n",
              "    .dataframe thead th {\n",
              "        text-align: right;\n",
              "    }\n",
              "</style>\n",
              "<table border=\"1\" class=\"dataframe\">\n",
              "  <thead>\n",
              "    <tr style=\"text-align: right;\">\n",
              "      <th></th>\n",
              "      <th>Username</th>\n",
              "      <th>Uploads</th>\n",
              "      <th>Views</th>\n",
              "    </tr>\n",
              "  </thead>\n",
              "  <tbody>\n",
              "    <tr>\n",
              "      <th>count</th>\n",
              "      <td>50</td>\n",
              "      <td>50</td>\n",
              "      <td>50</td>\n",
              "    </tr>\n",
              "    <tr>\n",
              "      <th>unique</th>\n",
              "      <td>50</td>\n",
              "      <td>49</td>\n",
              "      <td>50</td>\n",
              "    </tr>\n",
              "    <tr>\n",
              "      <th>top</th>\n",
              "      <td>DisneyMusicLAVEVO</td>\n",
              "      <td>588</td>\n",
              "      <td>354,232,426</td>\n",
              "    </tr>\n",
              "    <tr>\n",
              "      <th>freq</th>\n",
              "      <td>1</td>\n",
              "      <td>2</td>\n",
              "      <td>1</td>\n",
              "    </tr>\n",
              "  </tbody>\n",
              "</table>\n",
              "</div>"
            ],
            "text/plain": [
              "                 Username Uploads        Views\n",
              "count                  50      50           50\n",
              "unique                 50      49           50\n",
              "top     DisneyMusicLAVEVO     588  354,232,426\n",
              "freq                    1       2            1"
            ]
          },
          "metadata": {
            "tags": []
          },
          "execution_count": 14
        }
      ]
    },
    {
      "cell_type": "code",
      "metadata": {
        "id": "XQ5jXTKT23Uj"
      },
      "source": [
        "sns.set_theme(style=\"whitegrid\")"
      ],
      "execution_count": null,
      "outputs": []
    }
  ]
}